{
 "cells": [
  {
   "cell_type": "code",
   "execution_count": null,
   "metadata": {},
   "outputs": [],
   "source": [
    "import os\n",
    "\n",
    "from loader import *"
   ]
  },
  {
   "cell_type": "code",
   "execution_count": null,
   "metadata": {},
   "outputs": [],
   "source": [
    "uploadFiles = load_all_md(\"C:\\\\Users\\\\student\\\\Desktop\\\\projects\\\\1day1commit\")"
   ]
  },
  {
   "cell_type": "code",
   "execution_count": null,
   "metadata": {},
   "outputs": [],
   "source": [
    "import re"
   ]
  },
  {
   "cell_type": "code",
   "execution_count": null,
   "metadata": {},
   "outputs": [],
   "source": [
    "# 타이틀 처리\n",
    "TITLE_REGEX = re.compile(\"^[#].* \")\n",
    "\n",
    "line = \"   # 비트마스크\"\n",
    "\n",
    "g = TITLE_REGEX.search(line.lstrip())\n",
    "\n",
    "if type(g) != type(None):\n",
    "    i = 0\n",
    "    for ch in line.lstrip():\n",
    "        if ch == '#':\n",
    "            i+=1\n",
    "        else:\n",
    "            break\n",
    "    \n",
    "    line = line.replace(g.group(),\"\").lstrip()\n",
    "    processed = \"<h{}>{}</h{}>\".format(i, line, i)"
   ]
  },
  {
   "cell_type": "code",
   "execution_count": null,
   "metadata": {},
   "outputs": [],
   "source": [
    "processed"
   ]
  },
  {
   "cell_type": "code",
   "execution_count": null,
   "metadata": {},
   "outputs": [],
   "source": [
    "# 인라인 링크 처리\n",
    "line = \"[링크][http://naver.com]\"\n",
    "\n",
    "INLINE_LINK_REGEX = re.compile(\"\\[[가-힣A-Za-z].*\\]\")\n",
    "HREF_REGEX = re.compile(\"http://[가-힣A-Za-z].*[A-Za-z]\")\n",
    "LINK_INFO_REGEX = re.compile(\"\\[[가-힣A-Za-z].\\]\")\n",
    "\n",
    "g = INLINE_LINK_REGEX.search(line)\n",
    "\n",
    "if type(g) != type(None):\n",
    "    info = LINK_INFO_REGEX.search(g.group())\n",
    "    link = HREF_REGEX.search(g.group())\n",
    "    line = line.replace(g.group(), '<a href=\"{}\">{}</a>'.format(link.group(), info.group()[1:-1]))"
   ]
  },
  {
   "cell_type": "code",
   "execution_count": null,
   "metadata": {},
   "outputs": [],
   "source": [
    "line"
   ]
  },
  {
   "cell_type": "code",
   "execution_count": null,
   "metadata": {},
   "outputs": [],
   "source": [
    "ORDERED_LIST_REGEX = re.compile(\"^[0-9]*[.]\")\n",
    "\n",
    "line = \"1. 순서 리스트\"\n",
    "g = ORDERED_LIST_REGEX.search(line)\n",
    "\n",
    "if type(g) != type(None):\n",
    "    line = line.replace(g.group(), \"<ol>\").lstrip() + \"</ol>\""
   ]
  },
  {
   "cell_type": "code",
   "execution_count": null,
   "metadata": {},
   "outputs": [],
   "source": [
    "UNORDERED_LIST_REGEX = re.compile(\"^[-]\")\n",
    "\n",
    "line = \"- 순서 리스트\"\n",
    "g = UNORDERED_LIST_REGEX.search(line)\n",
    "\n",
    "if type(g) != type(None):\n",
    "    line = line.replace(g.group(), \"<li>\").lstrip() + \"</li>\""
   ]
  },
  {
   "cell_type": "code",
   "execution_count": null,
   "metadata": {},
   "outputs": [],
   "source": [
    "line"
   ]
  },
  {
   "cell_type": "code",
   "execution_count": null,
   "metadata": {},
   "outputs": [],
   "source": [
    "TILD_REGEX = re.compile(\"\\*.*\\*\")\n",
    "BOLD_REGEX = re.compile(\"\\*\\*.*\\*\\*\")\n",
    "\n",
    "line =\"안녕하세요 감사해요 **잘있어요 다시만나요**\"\n",
    "\n",
    "g = BOLD_REGEX.search(line)\n",
    "\n",
    "if type(g) != type(None):\n",
    "    repl = \"<strong>\" + g.group()[2:-2] + \"</strong>\"\n",
    "    line = line.replace(g.group(), repl)"
   ]
  },
  {
   "cell_type": "code",
   "execution_count": null,
   "metadata": {},
   "outputs": [],
   "source": [
    "line"
   ]
  },
  {
   "cell_type": "code",
   "execution_count": 1,
   "metadata": {},
   "outputs": [],
   "source": [
    "contents = []\n",
    "with open(\"./mdtest.md\", \"r\", encoding=\"utf-8\" ) as f:\n",
    "    contents = f.readlines()"
   ]
  },
  {
   "cell_type": "code",
   "execution_count": 2,
   "metadata": {},
   "outputs": [
    {
     "data": {
      "text/plain": [
       "['# 제목1\\n',\n",
       " '## 제목2\\n',\n",
       " '### 제목3\\n',\n",
       " '#### 제목4\\n',\n",
       " '##### 제목5\\n',\n",
       " '\\n',\n",
       " '[링크](http://naver.com)\\n',\n",
       " '\\n',\n",
       " '안녕하세요 감사해요 **잘있어요 다시만나요**\\n',\n",
       " '안녕하세요 *감사해요 잘있어요* 다시만나요']"
      ]
     },
     "execution_count": 2,
     "metadata": {},
     "output_type": "execute_result"
    }
   ],
   "source": [
    "contents"
   ]
  },
  {
   "cell_type": "code",
   "execution_count": 3,
   "metadata": {},
   "outputs": [],
   "source": [
    "from mdToHtml import *"
   ]
  },
  {
   "cell_type": "code",
   "execution_count": 4,
   "metadata": {},
   "outputs": [
    {
     "name": "stdout",
     "output_type": "stream",
     "text": [
      "# 제목1\n",
      "\n",
      "<h1>제목1\n",
      "</h1>\n",
      "## 제목2\n",
      "\n",
      "<h2>제목2\n",
      "</h2>\n",
      "### 제목3\n",
      "\n",
      "<h3>제목3\n",
      "</h3>\n",
      "#### 제목4\n",
      "\n",
      "<h4>제목4\n",
      "</h4>\n",
      "##### 제목5\n",
      "\n",
      "<h5>제목5\n",
      "</h5>\n",
      "\n",
      "\n"
     ]
    },
    {
     "ename": "AttributeError",
     "evalue": "'NoneType' object has no attribute 'group'",
     "output_type": "error",
     "traceback": [
      "\u001b[1;31m---------------------------------------------------------------------------\u001b[0m",
      "\u001b[1;31mAttributeError\u001b[0m                            Traceback (most recent call last)",
      "\u001b[1;32m<ipython-input-4-915a54596dcc>\u001b[0m in \u001b[0;36m<module>\u001b[1;34m\u001b[0m\n\u001b[1;32m----> 1\u001b[1;33m \u001b[0mmdToHtml\u001b[0m\u001b[1;33m(\u001b[0m\u001b[0mcontents\u001b[0m\u001b[1;33m)\u001b[0m\u001b[1;33m\u001b[0m\u001b[1;33m\u001b[0m\u001b[0m\n\u001b[0m",
      "\u001b[1;32m~\\Desktop\\projects\\tistory\\venv\\mdToHtml.py\u001b[0m in \u001b[0;36mmdToHtml\u001b[1;34m(content)\u001b[0m\n\u001b[0;32m     36\u001b[0m             \u001b[0minfo\u001b[0m \u001b[1;33m=\u001b[0m \u001b[0mLINK_INFO_REGEX\u001b[0m\u001b[1;33m.\u001b[0m\u001b[0msearch\u001b[0m\u001b[1;33m(\u001b[0m\u001b[0mg\u001b[0m\u001b[1;33m.\u001b[0m\u001b[0mgroup\u001b[0m\u001b[1;33m(\u001b[0m\u001b[1;33m)\u001b[0m\u001b[1;33m)\u001b[0m\u001b[1;33m\u001b[0m\u001b[1;33m\u001b[0m\u001b[0m\n\u001b[0;32m     37\u001b[0m             \u001b[0mlink\u001b[0m \u001b[1;33m=\u001b[0m \u001b[0mHREF_REGEX\u001b[0m\u001b[1;33m.\u001b[0m\u001b[0msearch\u001b[0m\u001b[1;33m(\u001b[0m\u001b[0mg\u001b[0m\u001b[1;33m.\u001b[0m\u001b[0mgroup\u001b[0m\u001b[1;33m(\u001b[0m\u001b[1;33m)\u001b[0m\u001b[1;33m)\u001b[0m\u001b[1;33m\u001b[0m\u001b[1;33m\u001b[0m\u001b[0m\n\u001b[1;32m---> 38\u001b[1;33m             \u001b[0mline\u001b[0m \u001b[1;33m=\u001b[0m \u001b[0mline\u001b[0m\u001b[1;33m.\u001b[0m\u001b[0mreplace\u001b[0m\u001b[1;33m(\u001b[0m\u001b[0mg\u001b[0m\u001b[1;33m.\u001b[0m\u001b[0mgroup\u001b[0m\u001b[1;33m(\u001b[0m\u001b[1;33m)\u001b[0m\u001b[1;33m,\u001b[0m \u001b[1;34m'<a href=\"{}\">{}</a>'\u001b[0m\u001b[1;33m.\u001b[0m\u001b[0mformat\u001b[0m\u001b[1;33m(\u001b[0m\u001b[0mlink\u001b[0m\u001b[1;33m.\u001b[0m\u001b[0mgroup\u001b[0m\u001b[1;33m(\u001b[0m\u001b[1;33m)\u001b[0m\u001b[1;33m,\u001b[0m \u001b[0minfo\u001b[0m\u001b[1;33m.\u001b[0m\u001b[0mgroup\u001b[0m\u001b[1;33m(\u001b[0m\u001b[1;33m)\u001b[0m\u001b[1;33m[\u001b[0m\u001b[1;36m1\u001b[0m\u001b[1;33m:\u001b[0m\u001b[1;33m-\u001b[0m\u001b[1;36m1\u001b[0m\u001b[1;33m]\u001b[0m\u001b[1;33m)\u001b[0m\u001b[1;33m)\u001b[0m\u001b[1;33m\u001b[0m\u001b[1;33m\u001b[0m\u001b[0m\n\u001b[0m\u001b[0;32m     39\u001b[0m \u001b[1;33m\u001b[0m\u001b[0m\n\u001b[0;32m     40\u001b[0m         \u001b[0mg\u001b[0m \u001b[1;33m=\u001b[0m \u001b[0mBOLD_REGEX\u001b[0m\u001b[1;33m.\u001b[0m\u001b[0msearch\u001b[0m\u001b[1;33m(\u001b[0m\u001b[0mline\u001b[0m\u001b[1;33m)\u001b[0m\u001b[1;33m\u001b[0m\u001b[1;33m\u001b[0m\u001b[0m\n",
      "\u001b[1;31mAttributeError\u001b[0m: 'NoneType' object has no attribute 'group'"
     ]
    }
   ],
   "source": [
    "mdToHtml(contents)"
   ]
  },
  {
   "cell_type": "code",
   "execution_count": null,
   "metadata": {},
   "outputs": [],
   "source": []
  }
 ],
 "metadata": {
  "kernelspec": {
   "display_name": "Python 3",
   "language": "python",
   "name": "python3"
  },
  "language_info": {
   "codemirror_mode": {
    "name": "ipython",
    "version": 3
   },
   "file_extension": ".py",
   "mimetype": "text/x-python",
   "name": "python",
   "nbconvert_exporter": "python",
   "pygments_lexer": "ipython3",
   "version": "3.7.6"
  }
 },
 "nbformat": 4,
 "nbformat_minor": 4
}
