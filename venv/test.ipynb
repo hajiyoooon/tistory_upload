{
 "cells": [
  {
   "cell_type": "code",
   "execution_count": 1,
   "metadata": {},
   "outputs": [],
   "source": [
    "import os\n",
    "\n",
    "from loader import *"
   ]
  },
  {
   "cell_type": "code",
   "execution_count": 2,
   "metadata": {},
   "outputs": [],
   "source": [
    "uploadFiles = load_all_md(\"C:\\\\Users\\\\student\\\\Desktop\\\\projects\\\\1day1commit\")"
   ]
  },
  {
   "cell_type": "code",
   "execution_count": 8,
   "metadata": {},
   "outputs": [],
   "source": []
  },
  {
   "cell_type": "code",
   "execution_count": 10,
   "metadata": {},
   "outputs": [],
   "source": [
    "import re"
   ]
  },
  {
   "cell_type": "code",
   "execution_count": 18,
   "metadata": {},
   "outputs": [],
   "source": [
    "TITLE_REGEX = re.compile(\"^[#].* \")\n",
    "\n",
    "line = \"   # 비트마스크\"\n",
    "\n",
    "g = TITLE_REGEX.search(line.lstrip())\n",
    "\n",
    "if type(g) != type(None):\n",
    "    i = 0\n",
    "    for ch in line.lstrip():\n",
    "        if ch == '#':\n",
    "            i+=1\n",
    "        else:\n",
    "            break\n",
    "    \n",
    "    line = line.replace(g.group(),\"\").lstrip()\n",
    "    processed = \"<h{}>{}</h{}>\".format(i, line, i)"
   ]
  },
  {
   "cell_type": "code",
   "execution_count": 19,
   "metadata": {},
   "outputs": [
    {
     "data": {
      "text/plain": [
       "'<h1>비트마스크</h1>'"
      ]
     },
     "execution_count": 19,
     "metadata": {},
     "output_type": "execute_result"
    }
   ],
   "source": [
    "processed"
   ]
  },
  {
   "cell_type": "code",
   "execution_count": null,
   "metadata": {},
   "outputs": [],
   "source": []
  }
 ],
 "metadata": {
  "kernelspec": {
   "display_name": "Python 3",
   "language": "python",
   "name": "python3"
  },
  "language_info": {
   "codemirror_mode": {
    "name": "ipython",
    "version": 3
   },
   "file_extension": ".py",
   "mimetype": "text/x-python",
   "name": "python",
   "nbconvert_exporter": "python",
   "pygments_lexer": "ipython3",
   "version": "3.7.6"
  }
 },
 "nbformat": 4,
 "nbformat_minor": 4
}
