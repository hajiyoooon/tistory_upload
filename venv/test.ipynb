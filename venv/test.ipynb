{
 "cells": [
  {
   "cell_type": "code",
   "execution_count": null,
   "metadata": {},
   "outputs": [],
   "source": [
    "# import os\n",
    "# import re\n",
    "# from loader import *"
   ]
  },
  {
   "cell_type": "code",
   "execution_count": 2,
   "metadata": {},
   "outputs": [],
   "source": [
    "# uploadFiles = load_all_md(\"C:\\\\Users\\\\student\\\\Desktop\\\\projects\\\\1day1commit\")"
   ]
  },
  {
   "cell_type": "code",
   "execution_count": null,
   "metadata": {},
   "outputs": [],
   "source": []
  },
  {
   "cell_type": "code",
   "execution_count": 3,
   "metadata": {},
   "outputs": [],
   "source": [
    "contents = []\n",
    "with open(\"./mdtest.md\", \"r\", encoding=\"utf-8\" ) as f:\n",
    "    contents = f.readlines()"
   ]
  },
  {
   "cell_type": "code",
   "execution_count": 4,
   "metadata": {},
   "outputs": [],
   "source": [
    "from mdToHtml import *"
   ]
  },
  {
   "cell_type": "code",
   "execution_count": 5,
   "metadata": {},
   "outputs": [
    {
     "name": "stdout",
     "output_type": "stream",
     "text": [
      "<re.Match object; span=(1, 6), match='[이미지]'>\n"
     ]
    }
   ],
   "source": [
    "ret,_ =mdToHtml(contents, -1)"
   ]
  },
  {
   "cell_type": "code",
   "execution_count": 6,
   "metadata": {},
   "outputs": [
    {
     "data": {
      "text/plain": [
       "[['<h1>제목1\\n</h1>'],\n",
       " ['<h2>제목2\\n</h2>'],\n",
       " ['<h3>제목3\\n</h3>'],\n",
       " ['<h4>제목4\\n</h4>'],\n",
       " ['<h5>제목5\\n</h5>'],\n",
       " ['\\n'],\n",
       " ['<a href=\"http://naver.com\">링크</a>\\n'],\n",
       " ['<img src=\"http://naver.com\" alt=\"이미지\">\\n'],\n",
       " ['\\n'],\n",
       " ['안녕하세요 감사해요 <strong>잘있어요 다시만나요</strong>\\n'],\n",
       " ['안녕하세요 <em>감사해요 잘있어요</em> 다시만나요\\n'],\n",
       " ['\\n'],\n",
       " ['<p>인용 1\\n</p>', 1, '>'],\n",
       " ['<p>인용2\\n</p>', 2, '>'],\n",
       " ['<p>인용3</p>', 3, '>']]"
      ]
     },
     "execution_count": 6,
     "metadata": {},
     "output_type": "execute_result"
    }
   ],
   "source": [
    "ret"
   ]
  },
  {
   "cell_type": "code",
   "execution_count": null,
   "metadata": {},
   "outputs": [],
   "source": []
  }
 ],
 "metadata": {
  "kernelspec": {
   "display_name": "Python 3",
   "language": "python",
   "name": "python3"
  },
  "language_info": {
   "codemirror_mode": {
    "name": "ipython",
    "version": 3
   },
   "file_extension": ".py",
   "mimetype": "text/x-python",
   "name": "python",
   "nbconvert_exporter": "python",
   "pygments_lexer": "ipython3",
   "version": "3.7.6"
  }
 },
 "nbformat": 4,
 "nbformat_minor": 4
}
