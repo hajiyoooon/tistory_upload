{
 "cells": [
  {
   "cell_type": "markdown",
   "metadata": {},
   "source": [
    "# markdown to html test\n",
    "\n",
    "markdown 형식을 html 형식으로 변환할 수 있습니다. 아래 예시와 같이 동작합니다"
   ]
  },
  {
   "cell_type": "code",
   "execution_count": 9,
   "metadata": {},
   "outputs": [],
   "source": [
    "import os\n",
    "import re\n",
    "from loader import *\n",
    "from mdToHtml import *"
   ]
  },
  {
   "cell_type": "code",
   "execution_count": 10,
   "metadata": {},
   "outputs": [
    {
     "data": {
      "text/plain": [
       "['./markdown_test\\\\AJAX.md',\n",
       " './markdown_test\\\\css3.md',\n",
       " './markdown_test\\\\css3_반응형, 레이아웃.md',\n",
       " './markdown_test\\\\html5.md',\n",
       " './markdown_test\\\\javascript.md',\n",
       " './markdown_test\\\\javascript_d3.md',\n",
       " './markdown_test\\\\javascript_DOM.md',\n",
       " './markdown_test\\\\javascript_html5_api.md',\n",
       " './markdown_test\\\\javascript_leaflet.md',\n",
       " './markdown_test\\\\svg.md',\n",
       " './markdown_test\\\\web기초.md']"
      ]
     },
     "execution_count": 10,
     "metadata": {},
     "output_type": "execute_result"
    }
   ],
   "source": [
    "# martkdown_test 라는 폴더의 모든 파일을 로드합니다. \n",
    "# !!주의!! 마크다운 파일이 아닌 경우 에러가 발생할 수 있습니다.\n",
    "uploadFiles = load_all_md(\"./markdown_test\")\n",
    "\n",
    "uploadFiles"
   ]
  },
  {
   "cell_type": "code",
   "execution_count": 11,
   "metadata": {},
   "outputs": [],
   "source": [
    "# html로 변환할 마크다운 파일을 readlines로 읽어서 한 줄 씩 배열에 저장합니다.\n",
    "\n",
    "contents = []\n",
    "with open(\"./mdtest.md\", \"r\", encoding=\"utf-8\" ) as f:\n",
    "    contents = f.readlines()"
   ]
  },
  {
   "cell_type": "code",
   "execution_count": 12,
   "metadata": {},
   "outputs": [
    {
     "name": "stdout",
     "output_type": "stream",
     "text": [
      "<re.Match object; span=(1, 6), match='[이미지]'>\n"
     ]
    },
    {
     "data": {
      "text/plain": [
       "[['<h1>제목1\\n</h1>'],\n",
       " ['<h2>제목2\\n</h2>'],\n",
       " ['<h3>제목3\\n</h3>'],\n",
       " ['<h4>제목4\\n</h4>'],\n",
       " ['<h5>제목5\\n</h5>'],\n",
       " ['\\n'],\n",
       " ['<a href=\"http://naver.com\">링크</a>\\n'],\n",
       " ['<img src=\"http://naver.com\" alt=\"이미지\">\\n'],\n",
       " ['\\n'],\n",
       " ['안녕하세요 감사해요 <strong>잘있어요 다시만나요</strong>\\n'],\n",
       " ['안녕하세요 <em>감사해요 잘있어요</em> 다시만나요\\n'],\n",
       " ['\\n'],\n",
       " ['<p>인용 1\\n</p>', 1, '>'],\n",
       " ['<p>인용2\\n</p>', 2, '>'],\n",
       " ['<p>인용3</p>', 3, '>']]"
      ]
     },
     "execution_count": 12,
     "metadata": {},
     "output_type": "execute_result"
    }
   ],
   "source": [
    "# mdToHtml 함수를 실행합니다. 첫 번째 인자는 배열을, 두 번째 인자에는 무조건 -1을 입력합니다\n",
    "ret,_ =mdToHtml(contents, -1)\n",
    "\n",
    "ret"
   ]
  },
  {
   "cell_type": "code",
   "execution_count": 46,
   "metadata": {},
   "outputs": [
    {
     "data": {
      "text/plain": [
       "'<h1>제목1</h1><h2>제목2</h2><h3>제목3</h3><h4>제목4</h4><h5>제목5</h5><br><a href=\"http://naver.com\">링크</a><img src=\"http://naver.com\" alt=\"이미지\"><br>안녕하세요 감사해요 <strong>잘있어요 다시만나요</strong>안녕하세요 <em>감사해요 잘있어요</em> 다시만나요<br><p>인용 1</p><p>인용2</p><p>인용3</p>'"
      ]
     },
     "execution_count": 46,
     "metadata": {},
     "output_type": "execute_result"
    }
   ],
   "source": [
    "# 마크\n",
    "\n",
    "html_content = \"\"\n",
    "\n",
    "for line in ret:\n",
    "    CRLF_removed = line[0].replace(\"\\n\",\"\")\n",
    "    if CRLF_removed == \"\":\n",
    "        CRLF_removed += \"<br>\"\n",
    "    html_content += CRLF_removed\n",
    "    \n",
    "html_content"
   ]
  },
  {
   "cell_type": "markdown",
   "metadata": {},
   "source": [
    "# 티스토리 API 접속"
   ]
  },
  {
   "cell_type": "code",
   "execution_count": 2,
   "metadata": {},
   "outputs": [],
   "source": [
    "import tistory"
   ]
  },
  {
   "cell_type": "code",
   "execution_count": 3,
   "metadata": {},
   "outputs": [],
   "source": [
    "# 필요한 정보를 담은 배열을 생성합니다.\n",
    "# 세션을 이용하여 티스토리 로그인 후 access token을 요청합니다.\n",
    "# 정보 유출에 주의해주세요.\n",
    "\n",
    "login_info = [\n",
    "    # client_id,\n",
    "    # secret_key,\n",
    "    # redirect url,\n",
    "    # 로그인 id,\n",
    "    # 비밀번호\n",
    "]\n",
    "\n",
    "api_accessor = tistory.Tistory(login_info)"
   ]
  },
  {
   "cell_type": "code",
   "execution_count": 4,
   "metadata": {},
   "outputs": [],
   "source": [
    "access_token = api_accessor.get_authentication_code()\n",
    "\n",
    "access_token"
   ]
  },
  {
   "cell_type": "code",
   "execution_count": 26,
   "metadata": {},
   "outputs": [
    {
     "name": "stdout",
     "output_type": "stream",
     "text": [
      "\n",
      "0 : Programming Language/C++(865282)\n",
      "1 : 이론/정보검색론(941651)\n",
      "2 : algorithm(823475)\n",
      "3 : Programming Language/Java(865283)\n",
      "4 : 이론/SQLP(860501)\n",
      "5 : 전공공부(823479)\n",
      "6 : Programming Language/Python(865284)\n",
      "7 : 이론/운영체제(855381)\n",
      "8 : 취업준비(823476)\n",
      "9 : 이론(860500)\n",
      "10 : 이론/소프트웨어공학(862664)\n",
      "11 : Programming Language(865281)\n",
      "12 : 이론/데이터베이스(862665)\n",
      "13 : Box(943164)\n"
     ]
    }
   ],
   "source": [
    "cat = api_accessor.get_category_info(access_token, \"mydevdiary\")"
   ]
  },
  {
   "cell_type": "code",
   "execution_count": 33,
   "metadata": {},
   "outputs": [],
   "source": [
    "# html로 변환할 마크다운 파일을 readlines로 읽어서 한 줄 씩 배열에 저장합니다.\n",
    "contents = []\n",
    "with open(\"./mdtest.md\", \"r\", encoding=\"utf-8\" ) as f:\n",
    "    contents = f.read()"
   ]
  },
  {
   "cell_type": "code",
   "execution_count": 34,
   "metadata": {},
   "outputs": [
    {
     "data": {
      "text/plain": [
       "'# 제목1\\n## 제목2\\n### 제목3\\n#### 제목4\\n##### 제목5\\n\\n[링크](http://naver.com)\\n![이미지](http://naver.com)\\n\\n안녕하세요 감사해요 **잘있어요 다시만나요**\\n안녕하세요 *감사해요 잘있어요* 다시만나요\\n\\n> 인용 1\\n>> 인용2\\n>>> 인용3'"
      ]
     },
     "execution_count": 34,
     "metadata": {},
     "output_type": "execute_result"
    }
   ],
   "source": [
    "contents"
   ]
  },
  {
   "cell_type": "code",
   "execution_count": 48,
   "metadata": {},
   "outputs": [
    {
     "name": "stdout",
     "output_type": "stream",
     "text": [
      "<Response [200]>\n"
     ]
    }
   ],
   "source": [
    "# 글 작성 테스트입니다.\n",
    "# upload_info 배열의 변수 순서는 티스토리 글쓰기 api에서 요구하는 매개변수 순서(https://tistory.github.io/document-tistory-apis/apis/v1/post/write.html)와 동일합니다.\n",
    "# 자세한 내용은 tistory.py의 구현을 참고해주세요.\n",
    "upload_info = [\n",
    "    access_token, 'json', '', '테스트', html_content, 0, cat[0]['id'],'','', '', 0, 1234\n",
    "]\n",
    "\n",
    "\n",
    "api_accessor.upload(upload_info)"
   ]
  },
  {
   "cell_type": "code",
   "execution_count": null,
   "metadata": {},
   "outputs": [],
   "source": []
  }
 ],
 "metadata": {
  "kernelspec": {
   "display_name": "Python 3",
   "language": "python",
   "name": "python3"
  },
  "language_info": {
   "codemirror_mode": {
    "name": "ipython",
    "version": 3
   },
   "file_extension": ".py",
   "mimetype": "text/x-python",
   "name": "python",
   "nbconvert_exporter": "python",
   "pygments_lexer": "ipython3",
   "version": "3.7.7"
  }
 },
 "nbformat": 4,
 "nbformat_minor": 4
}
